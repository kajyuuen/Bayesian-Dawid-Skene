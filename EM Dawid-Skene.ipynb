{
 "cells": [
  {
   "cell_type": "code",
   "execution_count": 1,
   "metadata": {},
   "outputs": [],
   "source": [
    "import logging\n",
    "\n",
    "import numpy as np\n",
    "\n",
    "def list2array(class_num, dataset_list):\n",
    "    task_num, worker_num, class_num = len(dataset_list), len(dataset_list[0]), class_num\n",
    "    dataset_tensor = np.zeros((task_num, worker_num, class_num))\n",
    "\n",
    "    for task_i in range(task_num): \n",
    "        for worker_j in range(worker_num): \n",
    "            for predict_label_k in dataset_list[task_i][worker_j]:\n",
    "                dataset_tensor[task_i][worker_j][predict_label_k] += 1\n",
    "\n",
    "    return dataset_tensor\n",
    "\n",
    "class DawidSkeneModel:\n",
    "    def __init__(self,\n",
    "                 class_num,\n",
    "                 max_iter = 100,\n",
    "                 tolerance = 0.01) -> None:\n",
    "        self.class_num = class_num\n",
    "        self.max_iter = max_iter\n",
    "        self.tolerance = tolerance\n",
    "\n",
    "    def run(self, dataset):\n",
    "        self.task_num, self.worker_num, _ = dataset.shape\n",
    "        self.dataset_tensor = dataset\n",
    "        predict_label =  self.dataset_tensor.sum(1) / self.dataset_tensor.sum(1).sum(1).reshape(-1, 1)\n",
    "\n",
    "        flag = True\n",
    "        prev_error_rates, prev_predict_label = None, None\n",
    "        iter_num = 0\n",
    "\n",
    "        while flag:\n",
    "            error_rates = self._m_step(predict_label)\n",
    "            next_predict_label = self._e_step(predict_label, error_rates)\n",
    "            log_L = self._get_likelihood(predict_label, error_rates)\n",
    "\n",
    "            if iter_num == 0:\n",
    "                logging.info(\"{}\\t{}\".format(iter_num, log_L))\n",
    "            else:\n",
    "                marginal_predict = np.sum(predict_label, 0) / self.task_num\n",
    "                prev_marginal_predict = np.sum(prev_predict_label, 0) / self.task_num\n",
    "                marginals_diff = np.sum(np.abs(marginal_predict - prev_marginal_predict))\n",
    "                error_rates_diff = np.sum(np.abs(error_rates - prev_error_rates))\n",
    "\n",
    "                if self._check_condition(marginals_diff, error_rates_diff, iter_num):\n",
    "                    flag = False\n",
    "\n",
    "            prev_error_rates = error_rates\n",
    "            prev_predict_label = predict_label\n",
    "            predict_label = next_predict_label\n",
    "            iter_num += 1\n",
    "\n",
    "        worker_reliability = {}\n",
    "        for i in range(self.worker_num):\n",
    "            ie_rates = marginal_predict * error_rates[i, :, :]\n",
    "            reliability = np.sum(np.diag(ie_rates))\n",
    "            worker_reliability[i] = reliability\n",
    "            \n",
    "        return marginal_predict, error_rates, worker_reliability, predict_label\n",
    "\n",
    "    def _check_condition(self, marginals_diff, error_rates_diff, iter_num):\n",
    "        return (marginals_diff < self.tolerance and error_rates_diff < self.tolerance) or iter_num > self.max_iter\n",
    "\n",
    "    def _m_step(self, predict_label):\n",
    "        error_rates = np.zeros((self.worker_num, self.class_num, self.class_num))\n",
    "\n",
    "        # Equation 2.3\n",
    "        for i in range(self.class_num):\n",
    "            worker_error_rate = np.dot(predict_label[:, i], self.dataset_tensor.transpose(1, 0 ,2))\n",
    "            sum_worker_error_rate = worker_error_rate.sum(1)\n",
    "            sum_worker_error_rate = np.where(sum_worker_error_rate == 0 , -10e9, sum_worker_error_rate)\n",
    "            error_rates[:, i, :] = worker_error_rate / sum_worker_error_rate.reshape(-1,1)                                                                        \n",
    "        return error_rates\n",
    "    \n",
    "    def _e_step(self, predict_label, error_rates):\n",
    "        marginal_probability = predict_label.sum(0) / self.task_num\n",
    "        next_predict_label = np.zeros([self.task_num, self.class_num])\n",
    "\n",
    "        # Equation 2.5\n",
    "        for i in range(self.task_num):\n",
    "            class_likelood = self._get_class_likelood(error_rates, self.dataset_tensor[i])\n",
    "            next_predict_label[i] = marginal_probability * class_likelood\n",
    "            sum_marginal_probability = next_predict_label[i].sum()\n",
    "            sum_marginal_probability = np.where(sum_marginal_probability == 0 , -10e9, sum_marginal_probability)\n",
    "            next_predict_label[i] /= sum_marginal_probability\n",
    "        return next_predict_label\n",
    "\n",
    "    def _get_likelihood(self, predict_label, error_rates):\n",
    "        log_L = 0\n",
    "        marginal_probability = predict_label.sum(0) / self.task_num\n",
    "\n",
    "        # Equation 2.7\n",
    "        for i in range(self.task_num):\n",
    "            class_likelood = self._get_class_likelood(error_rates, self.dataset_tensor[i])\n",
    "            log_L += np.log((marginal_probability * class_likelood).sum())\n",
    "        return log_L\n",
    "\n",
    "    def _get_class_likelood(self, error_rates, task_tensor):\n",
    "        # \\sum_{j=1}^J p_{j} \\prod_{k=1}^K \\prod_{l=1}^J\\left(\\pi_{j l}^{(k)}\\right)^{n_{il}^{(k)}}\n",
    "        return np.power(error_rates.transpose(0, 2, 1), np.broadcast_to(task_tensor.reshape(self.worker_num, self.class_num, 1), (self.worker_num, self.class_num, self.class_num))).transpose(1, 2, 0).prod(0).prod(1)"
   ]
  },
  {
   "cell_type": "code",
   "execution_count": 2,
   "metadata": {},
   "outputs": [],
   "source": [
    "class_num = 4\n",
    "dataset_list = [\n",
    "        [[0, 0, 0], [0], [0], [0], [0]],\n",
    "        [[2, 2, 2], [3], [2], [2], [3]],\n",
    "        [[0, 0, 1], [1], [0], [1], [1]],\n",
    "        [[1, 1, 1], [2], [0], [1], [0]],\n",
    "        [[1, 1, 1], [2], [1], [1], [1]],\n",
    "        [[1, 1, 1], [2], [2], [1], [1]],\n",
    "        [[0, 1, 1], [1], [0], [0], [0]],\n",
    "        [[2, 2, 2], [2], [3], [2], [2]],\n",
    "        [[1, 1, 1], [1], [1], [1], [2]],\n",
    "        [[1, 2, 1], [1], [1], [1], [2]],\n",
    "        [[3, 3, 3], [3], [3], [3], [3]],\n",
    "        [[1, 1, 1], [2], [2], [3], [2]],\n",
    "        [[0, 0, 0], [0], [0], [0], [0]],\n",
    "        [[1, 1, 1], [2], [1], [0], [1]],\n",
    "        [[0, 1, 0], [0], [0], [0], [0]],\n",
    "        [[0, 0, 0], [1], [0], [0], [0]],\n",
    "        [[0, 0, 0], [0], [0], [0], [0]],\n",
    "        [[0, 0, 0], [0], [0], [0], [0]],\n",
    "        [[1, 1, 1], [1], [1], [1], [0]],\n",
    "        [[1, 1, 1], [0], [2], [1], [1]],\n",
    "        [[1, 1, 1], [1], [1], [1], [1]],\n",
    "        [[1, 1, 1], [1], [1], [1], [0]],\n",
    "        [[1, 1, 1], [2], [1], [1], [1]],\n",
    "        [[1, 1, 0], [1], [1], [1], [1]],\n",
    "        [[0, 0, 0], [0], [0], [0], [0]],\n",
    "        [[0, 0, 0], [0], [0], [0], [0]],\n",
    "        [[1, 2, 1], [1], [1], [1], [1]],\n",
    "        [[0, 0, 0], [0], [0], [0], [0]],\n",
    "        [[0, 0, 0], [0], [0], [0], [0]],\n",
    "        [[0, 0, 1], [0], [0], [1], [0]],\n",
    "        [[0, 0, 0], [0], [0], [0], [0]],\n",
    "        [[2, 2, 2], [2], [1], [2], [2]],\n",
    "        [[0, 0, 0], [0], [0], [0], [0]],\n",
    "        [[1, 1, 1], [1], [1], [1], [1]],\n",
    "        [[1, 1, 1], [2], [1], [2], [1]],\n",
    "        [[3, 2, 2], [3], [2], [3], [2]],\n",
    "        [[1, 1, 0], [1], [1], [2], [1]],\n",
    "        [[1, 2, 1], [2], [1], [2], [2]],\n",
    "        [[2, 2, 2], [2], [3], [2], [1]],\n",
    "        [[0, 0, 0], [0], [0], [0], [0]],\n",
    "        [[0, 0, 0], [0], [0], [0], [0]],\n",
    "        [[0, 1, 0], [1], [0], [0], [0]],\n",
    "        [[1, 2, 1], [1], [1], [1], [1]],\n",
    "        [[0, 1, 0], [0], [0], [0], [0]],\n",
    "        [[1, 1, 1], [1], [1], [1], [1]]\n",
    "]\n"
   ]
  },
  {
   "cell_type": "code",
   "execution_count": 4,
   "metadata": {},
   "outputs": [],
   "source": [
    "dataset_tensor = list2array(class_num, dataset_list)\n",
    "model = DawidSkeneModel(class_num, max_iter=45, tolerance=10e-100)\n",
    "marginal_predict, error_rates, worker_reliability, predict_label = model.run(dataset_tensor)"
   ]
  },
  {
   "cell_type": "code",
   "execution_count": 17,
   "metadata": {
    "scrolled": true
   },
   "outputs": [
    {
     "data": {
      "text/plain": [
       "array([[0.88948835, 0.11051165, 0.        , 0.        ],\n",
       "       [0.07058545, 0.87637994, 0.05303461, 0.        ],\n",
       "       [0.        , 0.33882154, 0.66117846, 0.        ],\n",
       "       [0.        , 0.        , 0.55555556, 0.44444444]])"
      ]
     },
     "execution_count": 17,
     "metadata": {},
     "output_type": "execute_result"
    }
   ],
   "source": [
    "error_rates[0]"
   ]
  },
  {
   "cell_type": "code",
   "execution_count": 8,
   "metadata": {},
   "outputs": [],
   "source": [
    "import matplotlib.pyplot as plt\n",
    "import seaborn as sns\n",
    "import numpy as np\n",
    "import pandas as pd\n",
    "\n",
    "sns.set()\n",
    "sns.set_style('whitegrid')\n",
    "sns.set_palette('Paired')"
   ]
  },
  {
   "cell_type": "code",
   "execution_count": 13,
   "metadata": {},
   "outputs": [
    {
     "data": {
      "image/png": "[encoded data removed]",
      "text/plain": [
       "<Figure size 432x288 with 1 Axes>"
      ]
     },
     "metadata": {},
     "output_type": "display_data"
    }
   ],
   "source": [
    "fig = plt.figure()\n",
    "ax = fig.add_subplot(1, 1, 1)\n",
    "x_position = np.arange(len(marginal_predict))\n",
    "ax.bar(x_position, marginal_predict,  tick_label=[1, 2, 3, 4], error_kw=error_bar_set)\n",
    "\n",
    "# df_melt = pd.melt(df)\n",
    "# df_melt_little = pd.concat([df_melt[df_melt[\"variable\"] == i].head(100) for i in range(4)])\n",
    "\n",
    "# sns.stripplot(x='variable', y='value', data=df_melt_little, jitter=1, color='black', ax = ax)\n",
    "\n",
    "ax.set_title('EM Class and Probability')\n",
    "ax.set_xlabel('Class')\n",
    "ax.set_ylabel('Probability')\n",
    "ax.set_ylim(0, 0.6)\n",
    "plt.show()"
   ]
  },
  {
   "cell_type": "code",
   "execution_count": 18,
   "metadata": {
    "scrolled": true
   },
   "outputs": [
    {
     "data": {
      "image/png": "[encoded data removed]",
      "text/plain": [
       "<Figure size 432x288 with 2 Axes>"
      ]
     },
     "metadata": {},
     "output_type": "display_data"
    }
   ],
   "source": [
    "ax = plt.axes()\n",
    "ax.set_title('Worker 1')\n",
    "sns.heatmap(error_rates[0], cmap=\"Reds\", square=True, ax=ax);\n",
    "plt.show()"
   ]
  },
  {
   "cell_type": "code",
   "execution_count": 19,
   "metadata": {},
   "outputs": [
    {
     "data": {
      "image/png": "[encoded data removed]",
      "text/plain": [
       "<Figure size 432x288 with 2 Axes>"
      ]
     },
     "metadata": {},
     "output_type": "display_data"
    }
   ],
   "source": [
    "ax = plt.axes()\n",
    "ax.set_title('Worker 2')\n",
    "sns.heatmap(error_rates[1], cmap=\"Reds\", square=True, ax=ax);\n",
    "plt.show()"
   ]
  },
  {
   "cell_type": "code",
   "execution_count": 20,
   "metadata": {},
   "outputs": [
    {
     "data": {
      "image/png": "[encoded data removed]",
      "text/plain": [
       "<Figure size 432x288 with 2 Axes>"
      ]
     },
     "metadata": {},
     "output_type": "display_data"
    }
   ],
   "source": [
    "ax = plt.axes()\n",
    "ax.set_title('Worker 3')\n",
    "sns.heatmap(error_rates[2], cmap=\"Reds\", square=True, ax=ax);\n",
    "plt.show()"
   ]
  },
  {
   "cell_type": "code",
   "execution_count": 21,
   "metadata": {},
   "outputs": [
    {
     "data": {
      "image/png": "[encoded data removed]",
      "text/plain": [
       "<Figure size 432x288 with 2 Axes>"
      ]
     },
     "metadata": {},
     "output_type": "display_data"
    }
   ],
   "source": [
    "ax = plt.axes()\n",
    "ax.set_title('Worker 4')\n",
    "sns.heatmap(error_rates[3], cmap=\"Reds\", square=True, ax=ax);\n",
    "plt.show()"
   ]
  },
  {
   "cell_type": "code",
   "execution_count": 22,
   "metadata": {},
   "outputs": [
    {
     "data": {
      "image/png": "[encoded data removed]",
      "text/plain": [
       "<Figure size 432x288 with 2 Axes>"
      ]
     },
     "metadata": {},
     "output_type": "display_data"
    }
   ],
   "source": [
    "ax = plt.axes()\n",
    "ax.set_title('Worker 5')\n",
    "sns.heatmap(error_rates[4], cmap=\"Reds\", square=True, ax=ax);\n",
    "plt.show()"
   ]
  }
 ],
 "metadata": {
  "kernelspec": {
   "display_name": "Python 3",
   "language": "python",
   "name": "python3"
  },
  "language_info": {
   "codemirror_mode": {
    "name": "ipython",
    "version": 3
   },
   "file_extension": ".py",
   "mimetype": "text/x-python",
   "name": "python",
   "nbconvert_exporter": "python",
   "pygments_lexer": "ipython3",
   "version": "3.7.1"
  }
 },
 "nbformat": 4,
 "nbformat_minor": 4
}
